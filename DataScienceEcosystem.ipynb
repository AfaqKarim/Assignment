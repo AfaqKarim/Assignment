{
 "cells": [
  {
   "cell_type": "markdown",
   "id": "eba670b0-5f2a-4187-a002-75f4d02b372f",
   "metadata": {},
   "source": [
    "# Data Science Tools and Ecosystem"
   ]
  },
  {
   "cell_type": "markdown",
   "id": "c1eef92a-0903-4e00-9dc4-2e0b8661c839",
   "metadata": {},
   "source": [
    "In this notebook, Data Science Tools and Ecosystem are summarized."
   ]
  },
  {
   "cell_type": "markdown",
   "id": "4825b957-557f-4ccc-8d8b-a1b958ec652a",
   "metadata": {},
   "source": [
    "Some of the popular languages that Data Scientists use are.\n",
    "<ol>\n",
    "<li>Numpy</li>\n",
    "<li>Matplotlib</li>\n",
    "<li>Pandas</li>\n",
    "</ol>"
   ]
  },
  {
   "cell_type": "markdown",
   "id": "5e3c7353-e0df-4fc5-9170-04c621b9483a",
   "metadata": {},
   "source": [
    "|Data Science Tools|\n",
    "|------------------|\n",
    "|Jupyter Notebooks|\n",
    "|Zeppelin Notebooks|\n",
    "|RStudio’s|"
   ]
  },
  {
   "cell_type": "markdown",
   "id": "7d4788e4-1549-44d5-b24b-559db0b631b8",
   "metadata": {
    "tags": []
   },
   "source": [
    "### Below are a few examples of evaluating arithmetic expressions in Python"
   ]
  },
  {
   "cell_type": "code",
   "execution_count": 1,
   "id": "62a8f207-690a-4310-b9f5-467d489c6c73",
   "metadata": {},
   "outputs": [
    {
     "name": "stdout",
     "output_type": "stream",
     "text": [
      "17\n"
     ]
    }
   ],
   "source": [
    "print((3*4)+5)"
   ]
  },
  {
   "cell_type": "code",
   "execution_count": 7,
   "id": "077135f9-2216-4d4a-9e06-db88a057c67f",
   "metadata": {},
   "outputs": [
    {
     "name": "stdout",
     "output_type": "stream",
     "text": [
      "3.3333333333333335\n"
     ]
    }
   ],
   "source": [
    "print(200/60)"
   ]
  },
  {
   "cell_type": "markdown",
   "id": "13c55394-6f3b-431f-974a-e39ee684a9ab",
   "metadata": {},
   "source": [
    "<b>Objectives:</b>\n",
    "<ul>\n",
    "<li>Python</li>\n",
    "<li>R language</li>\n",
    "<li>Java</li>\n",
    "</ul>"
   ]
  },
  {
   "cell_type": "markdown",
   "id": "15ef631b-62cf-4265-bc31-9083b2bfef82",
   "metadata": {},
   "source": [
    "## Author\n",
    "    Afaq"
   ]
  },
  {
   "cell_type": "code",
   "execution_count": null,
   "id": "704f07e6-aee1-43e7-aa0f-b6328be6d222",
   "metadata": {},
   "outputs": [],
   "source": []
  }
 ],
 "metadata": {
  "kernelspec": {
   "display_name": "Python",
   "language": "python",
   "name": "conda-env-python-py"
  },
  "language_info": {
   "codemirror_mode": {
    "name": "ipython",
    "version": 3
   },
   "file_extension": ".py",
   "mimetype": "text/x-python",
   "name": "python",
   "nbconvert_exporter": "python",
   "pygments_lexer": "ipython3",
   "version": "3.7.12"
  }
 },
 "nbformat": 4,
 "nbformat_minor": 5
}
