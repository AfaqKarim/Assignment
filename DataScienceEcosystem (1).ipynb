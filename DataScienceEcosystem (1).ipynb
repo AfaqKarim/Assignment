{
 "cells": [
  {
   "cell_type": "code",
   "execution_count": null,
   "id": "c907bd03-5fa2-4e1a-b09d-2ef534dad1a1",
   "metadata": {},
   "outputs": [],
   "source": [
    "# Data Science Tools and Ecosystem"
   ]
  },
  {
   "cell_type": "code",
   "execution_count": null,
   "id": "3af5f11b-1bf6-42cf-9b96-bff9fc133009",
   "metadata": {},
   "outputs": [],
   "source": [
    "In this notebook, Data Science Tools and Ecosystem are summarized."
   ]
  },
  {
   "cell_type": "markdown",
   "id": "0f836193-51e7-45ba-8b9c-386da3602861",
   "metadata": {},
   "source": [
    "Some of the popular languages that Data Scientists use are.\n",
    "<ol>\n",
    "<li>Python</li>\n",
    "<li>java</li>\n",
    "<li>R language</li>\n",
    "</ol>"
   ]
  },
  {
   "cell_type": "code",
   "execution_count": null,
   "id": "12131230-36a4-4ba0-a64c-a1356c37727c",
   "metadata": {},
   "outputs": [],
   "source": [
    "Some of the commonly used libraries used by Data Scientists include:\n",
    "<ol>\n",
    "<li>Numpy</li>\n",
    "<li>Matplotlib</li>\n",
    "<li>Pandas</li>\n",
    "</ol>"
   ]
  },
  {
   "cell_type": "code",
   "execution_count": null,
   "id": "393eb91a-04ce-4c60-9794-68521d36eddb",
   "metadata": {},
   "outputs": [],
   "source": [
    "|Data Science Tools|\n",
    "|------------------|\n",
    "|Jupyter Notebooks|\n",
    "|Zeppelin Notebooks|\n",
    "|RStudio’s|"
   ]
  },
  {
   "cell_type": "code",
   "execution_count": null,
   "id": "d6879402-132e-436c-9d7f-a7db11259a05",
   "metadata": {
    "tags": []
   },
   "outputs": [],
   "source": [
    "### Below are a few examples of evaluating arithmetic expressions in Python"
   ]
  },
  {
   "cell_type": "code",
   "execution_count": 1,
   "id": "62a8f207-690a-4310-b9f5-467d489c6c73",
   "metadata": {},
   "outputs": [
    {
     "name": "stdout",
     "output_type": "stream",
     "text": [
      "17\n"
     ]
    }
   ],
   "source": [
    "print((3*4)+5)"
   ]
  },
  {
   "cell_type": "code",
   "execution_count": 7,
   "id": "077135f9-2216-4d4a-9e06-db88a057c67f",
   "metadata": {},
   "outputs": [
    {
     "name": "stdout",
     "output_type": "stream",
     "text": [
      "3.3333333333333335\n"
     ]
    }
   ],
   "source": [
    "print(200/60)"
   ]
  },
  {
   "cell_type": "code",
   "execution_count": null,
   "id": "a52a15d5-d0d2-4243-af03-accb2f56c270",
   "metadata": {},
   "outputs": [],
   "source": [
    "<b>Objectives:</b>\n",
    "<ul>\n",
    "<li>Python</li>\n",
    "<li>R language</li>\n",
    "<li>Java</li>\n",
    "</ul>"
   ]
  },
  {
   "cell_type": "code",
   "execution_count": null,
   "id": "df049ae3-fc35-4327-9829-f7d734fad831",
   "metadata": {},
   "outputs": [],
   "source": [
    "## Author\n",
    "    Afaq"
   ]
  },
  {
   "cell_type": "code",
   "execution_count": null,
   "id": "704f07e6-aee1-43e7-aa0f-b6328be6d222",
   "metadata": {},
   "outputs": [],
   "source": []
  }
 ],
 "metadata": {
  "kernelspec": {
   "display_name": "Python",
   "language": "python",
   "name": "conda-env-python-py"
  },
  "language_info": {
   "codemirror_mode": {
    "name": "ipython",
    "version": 3
   },
   "file_extension": ".py",
   "mimetype": "text/x-python",
   "name": "python",
   "nbconvert_exporter": "python",
   "pygments_lexer": "ipython3",
   "version": "3.7.12"
  }
 },
 "nbformat": 4,
 "nbformat_minor": 5
}
